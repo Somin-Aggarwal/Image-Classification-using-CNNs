{
 "cells": [
  {
   "cell_type": "code",
   "execution_count": 1,
   "id": "71421ef6",
   "metadata": {},
   "outputs": [
    {
     "name": "stderr",
     "output_type": "stream",
     "text": [
      "/home/somin/.conda/envs/hugging_face/lib/python3.8/site-packages/torchvision/models/_utils.py:208: UserWarning: The parameter 'pretrained' is deprecated since 0.13 and may be removed in the future, please use 'weights' instead.\n",
      "  warnings.warn(\n",
      "/home/somin/.conda/envs/hugging_face/lib/python3.8/site-packages/torchvision/models/_utils.py:223: UserWarning: Arguments other than a weight enum or `None` for 'weights' are deprecated since 0.13 and may be removed in the future. The current behavior is equivalent to passing `weights=None`.\n",
      "  warnings.warn(msg)\n"
     ]
    },
    {
     "name": "stdout",
     "output_type": "stream",
     "text": [
      "Test Accuracy: 96.03%\n"
     ]
    }
   ],
   "source": [
    "import torch\n",
    "import torch.nn as nn\n",
    "from torchvision import models, transforms\n",
    "from dataloader import get_dataloader\n",
    "import os\n",
    "import pandas as pd\n",
    "\n",
    "test_root_path = \"maize_dataset_split/test\"\n",
    "test_csv_file_path = \"maize_dataset_split/test.csv\"\n",
    "img_size = (224, 224)\n",
    "batch_size = 32\n",
    "device = torch.device(\"cuda\" if torch.cuda.is_available() else \"cpu\")\n",
    "weights_path = \"weights_resnet18/best_model.pt\"\n",
    "\n",
    "label_mapping = {\n",
    "    \"Blight\": 0,\n",
    "    \"Common_Rust\": 1,\n",
    "    \"Gray_Leaf_Spot\": 2,\n",
    "    \"Healthy\": 3\n",
    "}\n",
    "\n",
    "reverse_mapping = {\n",
    "    0 : \"Blight\",\n",
    "    1 : \"Common_Rust\",\n",
    "    2 : \"Gray_Leaf_Spot\",\n",
    "    3 : \"Healthy\"\n",
    "}\n",
    "\n",
    "transform_pipeline_val = transforms.Compose([\n",
    "        transforms.ToTensor(),\n",
    "        transforms.Normalize(mean = [0.485, 0.456, 0.406], std  = [0.229, 0.224, 0.225]),\n",
    "    ])\n",
    "\n",
    "test_loader = get_dataloader(\n",
    "    root_path=test_root_path,\n",
    "    label_mapping=label_mapping,\n",
    "    img_size=img_size,\n",
    "    csv_file_path=test_csv_file_path,\n",
    "    transforms=transform_pipeline_val,\n",
    "    batch_size=batch_size,\n",
    "    shuffle=False,\n",
    "    num_workers=2\n",
    ")\n",
    "\n",
    "def get_resnet18_model(num_classes, pretrained=False):\n",
    "    model = models.resnet18(pretrained=pretrained)\n",
    "    model.fc = nn.Linear(model.fc.in_features, num_classes)\n",
    "    return model\n",
    "\n",
    "model = get_resnet18_model(num_classes=4)\n",
    "model.load_state_dict(torch.load(weights_path)['model_state_dict'])\n",
    "model = model.to(device)\n",
    "model.eval()\n",
    "\n",
    "correct = 0\n",
    "total = 0\n",
    "\n",
    "image_names_list= []\n",
    "prediction = []\n",
    "with torch.no_grad():\n",
    "    for images, labels, image_name in test_loader:\n",
    "        image_names_list.extend(list(image_name))\n",
    "        images = images.to(device)\n",
    "        labels = labels.to(device)\n",
    "        outputs = model(images)\n",
    "        pred = torch.argmax(outputs, 1)\n",
    "        total += labels.size(0)\n",
    "        correct += (pred == labels).sum().item()\n",
    "        for p in pred:\n",
    "            prediction.append(reverse_mapping[int(p)])\n",
    "\n",
    "data = {\"label\":prediction}\n",
    "df = pd.DataFrame(data)\n",
    "df.to_csv(\"submission.csv\")\n",
    "\n",
    "accuracy = correct / total * 100\n",
    "print(f\"Test Accuracy: {accuracy:.2f}%\")\n"
   ]
  }
 ],
 "metadata": {
  "kernelspec": {
   "display_name": "hugging_face",
   "language": "python",
   "name": "python3"
  },
  "language_info": {
   "codemirror_mode": {
    "name": "ipython",
    "version": 3
   },
   "file_extension": ".py",
   "mimetype": "text/x-python",
   "name": "python",
   "nbconvert_exporter": "python",
   "pygments_lexer": "ipython3",
   "version": "3.8.20"
  }
 },
 "nbformat": 4,
 "nbformat_minor": 5
}
